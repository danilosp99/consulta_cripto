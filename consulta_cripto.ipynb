{
 "cells": [
  {
   "cell_type": "code",
   "execution_count": 1,
   "metadata": {},
   "outputs": [],
   "source": [
    "import requests"
   ]
  },
  {
   "cell_type": "code",
   "execution_count": 2,
   "metadata": {},
   "outputs": [
    {
     "name": "stdout",
     "output_type": "stream",
     "text": [
      "Preços das criptomoedas:\n",
      "Bitcoin: 639913 BRL\n",
      "Ethereum: 20839 BRL\n",
      "Ripple: 19.29 BRL\n"
     ]
    }
   ],
   "source": [
    "def get_crypto_prices(cryptos, currency='usd'):\n",
    "    \"\"\"\n",
    "    Consulta os preços das criptomoedas especificadas.\n",
    "\n",
    "    :param cryptos: Lista de criptomoedas (ex: ['bitcoin', 'ethereum', 'ripple'])\n",
    "    :param currency: Moeda de cotação (ex: 'usd', 'brl', etc.)\n",
    "    :return: Dicionário com preços das criptomoedas.\n",
    "    \"\"\"\n",
    "    url = f'https://api.coingecko.com/api/v3/simple/price'\n",
    "    params = {\n",
    "        'ids': ','.join(cryptos),  # Criptomoedas separadas por vírgula\n",
    "        'vs_currencies': currency\n",
    "    }\n",
    "    try:\n",
    "        response = requests.get(url, params=params)\n",
    "        response.raise_for_status()\n",
    "        return response.json()\n",
    "    except requests.exceptions.RequestException as e:\n",
    "        print(f\"Erro ao consultar os preços: {e}\")\n",
    "        return None\n",
    "\n",
    "# Lista de criptomoedas e moeda desejada\n",
    "cryptos = ['bitcoin', 'ethereum', 'ripple']  # IDs usados pelo CoinGecko\n",
    "currency = 'brl'\n",
    "\n",
    "# Consultar preços\n",
    "prices = get_crypto_prices(cryptos, currency)\n",
    "\n",
    "# Exibir resultados\n",
    "if prices:\n",
    "    print(\"Preços das criptomoedas:\")\n",
    "    for crypto, data in prices.items():\n",
    "        print(f\"{crypto.capitalize()}: {data[currency]} {currency.upper()}\")\n",
    "else:\n",
    "    print(\"Não foi possível obter os preços.\")"
   ]
  }
 ],
 "metadata": {
  "kernelspec": {
   "display_name": "Python 3",
   "language": "python",
   "name": "python3"
  },
  "language_info": {
   "codemirror_mode": {
    "name": "ipython",
    "version": 3
   },
   "file_extension": ".py",
   "mimetype": "text/x-python",
   "name": "python",
   "nbconvert_exporter": "python",
   "pygments_lexer": "ipython3",
   "version": "3.12.1"
  }
 },
 "nbformat": 4,
 "nbformat_minor": 2
}
